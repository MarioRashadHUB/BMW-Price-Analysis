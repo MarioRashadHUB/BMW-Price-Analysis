{
 "cells": [
  {
   "cell_type": "code",
   "execution_count": 1,
   "id": "06c15a53",
   "metadata": {},
   "outputs": [],
   "source": [
    "from bs4 import BeautifulSoup\n",
    "import requests\n",
    "import pandas as pd"
   ]
  },
  {
   "cell_type": "code",
   "execution_count": 2,
   "id": "0e3be4f3",
   "metadata": {},
   "outputs": [],
   "source": [
    "website = 'https://www.truecar.com/used-cars-for-sale/listings/bmw/3-series/year-2006-2011/location-effort-pa/?searchRadius=5000&trimSlug[]=335i&trimSlug[]=335is&trimSlug[]=335xi'"
   ]
  },
  {
   "cell_type": "code",
   "execution_count": 3,
   "id": "1b97eb13",
   "metadata": {},
   "outputs": [],
   "source": [
    "response = requests.get(website)"
   ]
  },
  {
   "cell_type": "code",
   "execution_count": 4,
   "id": "35f88805",
   "metadata": {},
   "outputs": [
    {
     "data": {
      "text/plain": [
       "200"
      ]
     },
     "execution_count": 4,
     "metadata": {},
     "output_type": "execute_result"
    }
   ],
   "source": [
    "response.status_code"
   ]
  },
  {
   "cell_type": "markdown",
   "id": "9abffed0",
   "metadata": {},
   "source": [
    "### Soup Object"
   ]
  },
  {
   "cell_type": "code",
   "execution_count": 5,
   "id": "4a486b58",
   "metadata": {},
   "outputs": [],
   "source": [
    "soup = BeautifulSoup(response.content, 'html.parser')"
   ]
  },
  {
   "cell_type": "code",
   "execution_count": 6,
   "id": "02dcaf01",
   "metadata": {},
   "outputs": [],
   "source": [
    "results = soup.find_all('div', {'class':'linkable card card-shadow vehicle-card _1qd1muk'})"
   ]
  },
  {
   "cell_type": "code",
   "execution_count": 7,
   "id": "71e9f506",
   "metadata": {},
   "outputs": [
    {
     "data": {
      "text/plain": [
       "31"
      ]
     },
     "execution_count": 7,
     "metadata": {},
     "output_type": "execute_result"
    }
   ],
   "source": [
    "len(results)"
   ]
  },
  {
   "cell_type": "markdown",
   "id": "2eff2be2",
   "metadata": {},
   "source": [
    "### Scrape necessary data"
   ]
  },
  {
   "cell_type": "code",
   "execution_count": 8,
   "id": "b4b94ebb",
   "metadata": {},
   "outputs": [],
   "source": [
    "# Year\n",
    "# Model\n",
    "# Mileage\n",
    "# Location\n",
    "# Price type\n",
    "# Price \"Type\"\n",
    "# Color scheme\n",
    "# History / Condition\n"
   ]
  },
  {
   "cell_type": "markdown",
   "id": "0730accd",
   "metadata": {},
   "source": [
    "### Year"
   ]
  },
  {
   "cell_type": "code",
   "execution_count": 9,
   "id": "4217c0a3",
   "metadata": {},
   "outputs": [
    {
     "data": {
      "text/plain": [
       "'2011'"
      ]
     },
     "execution_count": 9,
     "metadata": {},
     "output_type": "execute_result"
    }
   ],
   "source": [
    "results[0].find('span', {'class': 'vehicle-card-year font-size-1'}).get_text()"
   ]
  },
  {
   "cell_type": "markdown",
   "id": "f7b1b3b1",
   "metadata": {},
   "source": [
    "### Model"
   ]
  },
  {
   "cell_type": "code",
   "execution_count": 10,
   "id": "59160e3f",
   "metadata": {},
   "outputs": [
    {
     "data": {
      "text/plain": [
       "'335is Convertible'"
      ]
     },
     "execution_count": 10,
     "metadata": {},
     "output_type": "execute_result"
    }
   ],
   "source": [
    "results[0].find('div', {'class': 'font-size-1 text-truncate'}).get_text()"
   ]
  },
  {
   "cell_type": "markdown",
   "id": "1182a6e5",
   "metadata": {},
   "source": [
    "### Mileage"
   ]
  },
  {
   "cell_type": "code",
   "execution_count": 11,
   "id": "dc03eb35",
   "metadata": {},
   "outputs": [
    {
     "data": {
      "text/plain": [
       "'62,515 miles'"
      ]
     },
     "execution_count": 11,
     "metadata": {},
     "output_type": "execute_result"
    }
   ],
   "source": [
    "results[0].find('div', {'data-test':'vehicleMileage'}).get_text()"
   ]
  },
  {
   "cell_type": "markdown",
   "id": "61b8739a",
   "metadata": {},
   "source": [
    "### Location"
   ]
  },
  {
   "cell_type": "code",
   "execution_count": 12,
   "id": "3f732142",
   "metadata": {},
   "outputs": [
    {
     "data": {
      "text/plain": [
       "'58 mi - Somerset, NJ'"
      ]
     },
     "execution_count": 12,
     "metadata": {},
     "output_type": "execute_result"
    }
   ],
   "source": [
    "results[0].find('div', {'data-test':'vehicleCardLocation'}).get_text()"
   ]
  },
  {
   "cell_type": "markdown",
   "id": "d1a718a0",
   "metadata": {},
   "source": [
    "### Price Type"
   ]
  },
  {
   "cell_type": "code",
   "execution_count": 13,
   "id": "3e3befbe",
   "metadata": {},
   "outputs": [
    {
     "data": {
      "text/plain": [
       "'$25,999'"
      ]
     },
     "execution_count": 13,
     "metadata": {},
     "output_type": "execute_result"
    }
   ],
   "source": [
    "results[0].find('div', {'data-test':'vehicleCardPricingBlockPrice'}).get_text()"
   ]
  },
  {
   "cell_type": "markdown",
   "id": "c4c256fa",
   "metadata": {},
   "source": [
    "### Price Type"
   ]
  },
  {
   "cell_type": "code",
   "execution_count": 14,
   "id": "92b9fccf",
   "metadata": {},
   "outputs": [
    {
     "data": {
      "text/plain": [
       "'High Price'"
      ]
     },
     "execution_count": 14,
     "metadata": {},
     "output_type": "execute_result"
    }
   ],
   "source": [
    "results[0].find('span', {'data-test':'graphIconLabel'}).get_text()"
   ]
  },
  {
   "cell_type": "markdown",
   "id": "99eb720a",
   "metadata": {},
   "source": [
    "### Color Scheme"
   ]
  },
  {
   "cell_type": "code",
   "execution_count": 15,
   "id": "3372b171",
   "metadata": {},
   "outputs": [
    {
     "data": {
      "text/plain": [
       "'Silver exterior, Black interior'"
      ]
     },
     "execution_count": 15,
     "metadata": {},
     "output_type": "execute_result"
    }
   ],
   "source": [
    "results[0].find('div', {'data-test': 'vehicleCardColors'}).get_text()"
   ]
  },
  {
   "cell_type": "markdown",
   "id": "08661cc0",
   "metadata": {},
   "source": [
    "### History / Condition"
   ]
  },
  {
   "cell_type": "code",
   "execution_count": 16,
   "id": "af71988c",
   "metadata": {},
   "outputs": [
    {
     "data": {
      "text/plain": [
       "'No accidents, 3 Owners, Personal use'"
      ]
     },
     "execution_count": 16,
     "metadata": {},
     "output_type": "execute_result"
    }
   ],
   "source": [
    "results[0].find('div', {'data-test':'vehicleCardCondition'}).get_text()"
   ]
  },
  {
   "cell_type": "code",
   "execution_count": null,
   "id": "c2ade260",
   "metadata": {},
   "outputs": [],
   "source": []
  }
 ],
 "metadata": {
  "kernelspec": {
   "display_name": "Python 3 (ipykernel)",
   "language": "python",
   "name": "python3"
  },
  "language_info": {
   "codemirror_mode": {
    "name": "ipython",
    "version": 3
   },
   "file_extension": ".py",
   "mimetype": "text/x-python",
   "name": "python",
   "nbconvert_exporter": "python",
   "pygments_lexer": "ipython3",
   "version": "3.9.7"
  }
 },
 "nbformat": 4,
 "nbformat_minor": 5
}
